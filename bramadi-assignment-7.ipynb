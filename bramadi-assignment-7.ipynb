{
 "cells": [
  {
   "cell_type": "markdown",
   "id": "877ae56d",
   "metadata": {},
   "source": [
    "### Dataset: Real Estate data\n",
    "#### My intuition is that the house price of unit area is linearly dependent on the number of convenience stores\n",
    "#### My argument is that if there is higher price per area then it must be accessible to more convenience stores"
   ]
  },
  {
   "cell_type": "code",
   "execution_count": 1,
   "id": "da170f5a",
   "metadata": {},
   "outputs": [
    {
     "name": "stdout",
     "output_type": "stream",
     "text": [
      "\n",
      "Number of values in a column house price of unit area: 414\n",
      "\n",
      "Number of values in a column number of convenience stores: 414\n"
     ]
    },
    {
     "data": {
      "text/html": [
       "<div>\n",
       "<style scoped>\n",
       "    .dataframe tbody tr th:only-of-type {\n",
       "        vertical-align: middle;\n",
       "    }\n",
       "\n",
       "    .dataframe tbody tr th {\n",
       "        vertical-align: top;\n",
       "    }\n",
       "\n",
       "    .dataframe thead th {\n",
       "        text-align: right;\n",
       "    }\n",
       "</style>\n",
       "<table border=\"1\" class=\"dataframe\">\n",
       "  <thead>\n",
       "    <tr style=\"text-align: right;\">\n",
       "      <th></th>\n",
       "      <th>No</th>\n",
       "      <th>X1 transaction date</th>\n",
       "      <th>X2 house age</th>\n",
       "      <th>X3 distance to the nearest MRT station</th>\n",
       "      <th>X4 number of convenience stores</th>\n",
       "      <th>X5 latitude</th>\n",
       "      <th>X6 longitude</th>\n",
       "      <th>Y house price of unit area</th>\n",
       "    </tr>\n",
       "  </thead>\n",
       "  <tbody>\n",
       "    <tr>\n",
       "      <th>0</th>\n",
       "      <td>1</td>\n",
       "      <td>2012.917</td>\n",
       "      <td>32.0</td>\n",
       "      <td>84.87882</td>\n",
       "      <td>10</td>\n",
       "      <td>24.98298</td>\n",
       "      <td>121.54024</td>\n",
       "      <td>37.9</td>\n",
       "    </tr>\n",
       "    <tr>\n",
       "      <th>1</th>\n",
       "      <td>2</td>\n",
       "      <td>2012.917</td>\n",
       "      <td>19.5</td>\n",
       "      <td>306.59470</td>\n",
       "      <td>9</td>\n",
       "      <td>24.98034</td>\n",
       "      <td>121.53951</td>\n",
       "      <td>42.2</td>\n",
       "    </tr>\n",
       "    <tr>\n",
       "      <th>2</th>\n",
       "      <td>3</td>\n",
       "      <td>2013.583</td>\n",
       "      <td>13.3</td>\n",
       "      <td>561.98450</td>\n",
       "      <td>5</td>\n",
       "      <td>24.98746</td>\n",
       "      <td>121.54391</td>\n",
       "      <td>47.3</td>\n",
       "    </tr>\n",
       "    <tr>\n",
       "      <th>3</th>\n",
       "      <td>4</td>\n",
       "      <td>2013.500</td>\n",
       "      <td>13.3</td>\n",
       "      <td>561.98450</td>\n",
       "      <td>5</td>\n",
       "      <td>24.98746</td>\n",
       "      <td>121.54391</td>\n",
       "      <td>54.8</td>\n",
       "    </tr>\n",
       "    <tr>\n",
       "      <th>4</th>\n",
       "      <td>5</td>\n",
       "      <td>2012.833</td>\n",
       "      <td>5.0</td>\n",
       "      <td>390.56840</td>\n",
       "      <td>5</td>\n",
       "      <td>24.97937</td>\n",
       "      <td>121.54245</td>\n",
       "      <td>43.1</td>\n",
       "    </tr>\n",
       "  </tbody>\n",
       "</table>\n",
       "</div>"
      ],
      "text/plain": [
       "   No  X1 transaction date  X2 house age  \\\n",
       "0   1             2012.917          32.0   \n",
       "1   2             2012.917          19.5   \n",
       "2   3             2013.583          13.3   \n",
       "3   4             2013.500          13.3   \n",
       "4   5             2012.833           5.0   \n",
       "\n",
       "   X3 distance to the nearest MRT station  X4 number of convenience stores  \\\n",
       "0                                84.87882                               10   \n",
       "1                               306.59470                                9   \n",
       "2                               561.98450                                5   \n",
       "3                               561.98450                                5   \n",
       "4                               390.56840                                5   \n",
       "\n",
       "   X5 latitude  X6 longitude  Y house price of unit area  \n",
       "0     24.98298     121.54024                        37.9  \n",
       "1     24.98034     121.53951                        42.2  \n",
       "2     24.98746     121.54391                        47.3  \n",
       "3     24.98746     121.54391                        54.8  \n",
       "4     24.97937     121.54245                        43.1  "
      ]
     },
     "execution_count": 1,
     "metadata": {},
     "output_type": "execute_result"
    }
   ],
   "source": [
    "import pandas as pd\n",
    "housing = pd.read_csv(\"C:/Users/Nikitha/OneDrive - sjsu.edu/School/Assignments/Math_Methods_in_DA/datasets/real_estate_prediction/Real estate.csv\")\n",
    "\n",
    "# Considering the columns of 'Y house price of unit area' and 'X4 number of convenience stores'\n",
    "# Convert the column values to a list x and y\n",
    "x = list(housing['Y house price of unit area'])\n",
    "y = list(housing['X4 number of convenience stores'])\n",
    "\n",
    "print('\\nNumber of values in a column house price of unit area:', len(x))\n",
    "print('\\nNumber of values in a column number of convenience stores:', len(y))\n",
    "\n",
    "housing.head()"
   ]
  },
  {
   "cell_type": "code",
   "execution_count": 6,
   "id": "f121bb01",
   "metadata": {},
   "outputs": [],
   "source": [
    "import matplotlib.pyplot as plt\n",
    "\n",
    "#Function to draw a scatter plot \n",
    "def draw_scatterchart(title, x_label, y_label, x_values, y_values, colour):\n",
    "    plt.scatter(x_values, y_values, color=colour)\n",
    "    plt.title(title, color='b')\n",
    "    plt.ylabel(y_label, color='b')\n",
    "    plt.xlabel(x_label, color='b')\n",
    "    plt.show()"
   ]
  },
  {
   "cell_type": "code",
   "execution_count": 7,
   "id": "a921749e",
   "metadata": {},
   "outputs": [],
   "source": [
    "import numpy as np\n",
    "import matplotlib.pyplot as plt\n",
    "\n",
    "def calculate_slope_intercept(x_values, y_values):\n",
    "    \"\"\"\n",
    "    Calculate the slope and intercept of a regression line.\n",
    "    @param x_values the independent x values.\n",
    "    @param y_values the dependent y values.\n",
    "    @return a list of the slope and y-intercept of the line.\n",
    "    \"\"\"\n",
    "    x = np.array(x_values)\n",
    "    y = np.array(y_values)\n",
    "    \n",
    "    n = len(x)\n",
    "    sum_x = np.sum(x)\n",
    "    sum_y = np.sum(y)\n",
    "    sum_xx = np.sum(x*x)\n",
    "    sum_xy = np.sum(x*y)\n",
    "    \n",
    "    numerator = sum_xy - (sum_x*sum_y)/n\n",
    "    denominator = sum_xx - ((sum_x*sum_x)/n)\n",
    "    \n",
    "    m = numerator/denominator\n",
    "    b = (np.mean(y) - m*np.mean(x))\n",
    "    \n",
    "    return m, b  # slope and intercept\n",
    "\n",
    "def show_least_squares_line(title, x_label, y_label, x_values, y_values, colour):\n",
    "    \"\"\"\n",
    "    @param title the chart title.\n",
    "    @param x_label the x-axis label.\n",
    "    @param y_label the y-axis label.\n",
    "    @param x_values the independent x values to plot.\n",
    "    @param y_values the dependent y values to plot.\n",
    "    \"\"\"\n",
    "    # First show the scatter plot.\n",
    "    plt.scatter(x_values, y_values, color=colour)\n",
    "    \n",
    "    # Now show the least squares line.\n",
    "    m, b = calculate_slope_intercept(x_values, y_values)\n",
    "    reg_line = [m*x + b for x in x_values]  # regression line\n",
    "    plt.plot(x_values, reg_line, color='blue')\n",
    "\n",
    "    plt.title(title, color = 'b')\n",
    "    plt.xlabel(x_label, color = 'b')\n",
    "    plt.ylabel(y_label, color = 'b')\n",
    "\n",
    "    plt.show()"
   ]
  },
  {
   "cell_type": "code",
   "execution_count": 4,
   "id": "8bb8bd99",
   "metadata": {},
   "outputs": [
    {
     "data": {
      "image/png": "[encoded data removed]",
      "text/plain": [
       "<Figure size 432x288 with 1 Axes>"
      ]
     },
     "metadata": {
      "needs_background": "light"
     },
     "output_type": "display_data"
    }
   ],
   "source": [
    "#Drawing the Scatter plot based on the choosen independent and dependent column\n",
    "draw_scatterchart('Scatter Plot based on real estate', 'Independent variable - House price of unit area', 'Dependent variable - number of convenience stores', x, y, 'orange' )"
   ]
  },
  {
   "cell_type": "code",
   "execution_count": 5,
   "id": "37f60b44",
   "metadata": {},
   "outputs": [
    {
     "name": "stdout",
     "output_type": "stream",
     "text": [
      "\n",
      "Slope of the line: 0.11747497919100952\n",
      "y-intercept of the line: -0.39070237585386636\n"
     ]
    }
   ],
   "source": [
    "#Showcasing the Slope and the intercept\n",
    "m, b = calculate_slope_intercept(x,y)\n",
    "print('\\nSlope of the line:', m)\n",
    "print('y-intercept of the line:', b)"
   ]
  },
  {
   "cell_type": "code",
   "execution_count": 6,
   "id": "4886b4f0",
   "metadata": {},
   "outputs": [
    {
     "data": {
      "image/png": "[encoded data removed]",
      "text/plain": [
       "<Figure size 432x288 with 1 Axes>"
      ]
     },
     "metadata": {
      "needs_background": "light"
     },
     "output_type": "display_data"
    }
   ],
   "source": [
    "#Drawing the least squares regression line\n",
    "show_least_squares_line('Least square regression line on real estate','House price of unit area', 'Number of convenience stores',x,y, 'orange')"
   ]
  },
  {
   "cell_type": "code",
   "execution_count": 7,
   "id": "4ddcee9e",
   "metadata": {},
   "outputs": [
    {
     "name": "stdout",
     "output_type": "stream",
     "text": [
      "Coefficient of determination -5.590494476970956\n",
      "This negative value can be caused due to the size of the dataset being used or the variance in the values present in it\n"
     ]
    }
   ],
   "source": [
    "#Calculating the R-Square, the coeffiecient of determination\n",
    "from sklearn.metrics import r2_score \n",
    "\n",
    "R_square = r2_score(x, y)\n",
    "print('Coefficient of determination', R_square)\n",
    "print('This negative value can be caused due to the size of the dataset being used or the variance in the values present in it')"
   ]
  },
  {
   "cell_type": "code",
   "execution_count": 8,
   "id": "e9f05b6c",
   "metadata": {},
   "outputs": [
    {
     "name": "stdout",
     "output_type": "stream",
     "text": [
      "Correlation coeffiecient is 0.5659679400455739\n",
      "\n",
      "This shows that the columns of house price and convenience stores count are correlated well\n"
     ]
    }
   ],
   "source": [
    "#Calculating the Pearson's coeffiecient\n",
    "from scipy.stats import pearsonr\n",
    "\n",
    "pearson_correlation = pearsonr(x, y)[0]\n",
    "print('Correlation coeffiecient is', pearson_correlation)\n",
    "print(\"\\nThis shows that the columns of house price and convenience stores count are correlated well\")"
   ]
  },
  {
   "cell_type": "markdown",
   "id": "bbfe625e",
   "metadata": {},
   "source": [
    "### Dataset: Insurance data\n",
    "\n",
    "#### For a fact low and moderate BMI is associated with good health\n",
    "#### The suspicion is that since low BMI value should be association with good health then the cost of the insurance covered should be low."
   ]
  },
  {
   "cell_type": "code",
   "execution_count": 4,
   "id": "c3d6d47a",
   "metadata": {},
   "outputs": [
    {
     "name": "stdout",
     "output_type": "stream",
     "text": [
      "\n",
      "Number of values in a column charges: 1338\n",
      "\n",
      "Number of values in a column bmi: 1338\n"
     ]
    },
    {
     "data": {
      "text/html": [
       "<div>\n",
       "<style scoped>\n",
       "    .dataframe tbody tr th:only-of-type {\n",
       "        vertical-align: middle;\n",
       "    }\n",
       "\n",
       "    .dataframe tbody tr th {\n",
       "        vertical-align: top;\n",
       "    }\n",
       "\n",
       "    .dataframe thead th {\n",
       "        text-align: right;\n",
       "    }\n",
       "</style>\n",
       "<table border=\"1\" class=\"dataframe\">\n",
       "  <thead>\n",
       "    <tr style=\"text-align: right;\">\n",
       "      <th></th>\n",
       "      <th>age</th>\n",
       "      <th>sex</th>\n",
       "      <th>bmi</th>\n",
       "      <th>children</th>\n",
       "      <th>smoker</th>\n",
       "      <th>region</th>\n",
       "      <th>charges</th>\n",
       "    </tr>\n",
       "  </thead>\n",
       "  <tbody>\n",
       "    <tr>\n",
       "      <th>0</th>\n",
       "      <td>19</td>\n",
       "      <td>female</td>\n",
       "      <td>27.900</td>\n",
       "      <td>0</td>\n",
       "      <td>yes</td>\n",
       "      <td>southwest</td>\n",
       "      <td>16884.92400</td>\n",
       "    </tr>\n",
       "    <tr>\n",
       "      <th>1</th>\n",
       "      <td>18</td>\n",
       "      <td>male</td>\n",
       "      <td>33.770</td>\n",
       "      <td>1</td>\n",
       "      <td>no</td>\n",
       "      <td>southeast</td>\n",
       "      <td>1725.55230</td>\n",
       "    </tr>\n",
       "    <tr>\n",
       "      <th>2</th>\n",
       "      <td>28</td>\n",
       "      <td>male</td>\n",
       "      <td>33.000</td>\n",
       "      <td>3</td>\n",
       "      <td>no</td>\n",
       "      <td>southeast</td>\n",
       "      <td>4449.46200</td>\n",
       "    </tr>\n",
       "    <tr>\n",
       "      <th>3</th>\n",
       "      <td>33</td>\n",
       "      <td>male</td>\n",
       "      <td>22.705</td>\n",
       "      <td>0</td>\n",
       "      <td>no</td>\n",
       "      <td>northwest</td>\n",
       "      <td>21984.47061</td>\n",
       "    </tr>\n",
       "    <tr>\n",
       "      <th>4</th>\n",
       "      <td>32</td>\n",
       "      <td>male</td>\n",
       "      <td>28.880</td>\n",
       "      <td>0</td>\n",
       "      <td>no</td>\n",
       "      <td>northwest</td>\n",
       "      <td>3866.85520</td>\n",
       "    </tr>\n",
       "  </tbody>\n",
       "</table>\n",
       "</div>"
      ],
      "text/plain": [
       "   age     sex     bmi  children smoker     region      charges\n",
       "0   19  female  27.900         0    yes  southwest  16884.92400\n",
       "1   18    male  33.770         1     no  southeast   1725.55230\n",
       "2   28    male  33.000         3     no  southeast   4449.46200\n",
       "3   33    male  22.705         0     no  northwest  21984.47061\n",
       "4   32    male  28.880         0     no  northwest   3866.85520"
      ]
     },
     "execution_count": 4,
     "metadata": {},
     "output_type": "execute_result"
    }
   ],
   "source": [
    "import pandas as pd\n",
    "insurance = pd.read_csv(\"C:/Users/Nikitha/OneDrive - sjsu.edu/School/Assignments/Math_Methods_in_DA/datasets/medical_insurance_dataset/insurance.csv\")\n",
    "\n",
    "# Considering the columns of 'charges' and 'bmi'\n",
    "# Convert the column values to a list col1 and col2\n",
    "col1 = list(insurance['charges'])\n",
    "col2 = list(insurance['bmi'])\n",
    "\n",
    "print('\\nNumber of values in a column charges:', len(col1))\n",
    "print('\\nNumber of values in a column bmi:', len(col2))\n",
    "\n",
    "insurance.head()"
   ]
  },
  {
   "cell_type": "code",
   "execution_count": 8,
   "id": "226be4dc",
   "metadata": {},
   "outputs": [
    {
     "data": {
      "image/png": "[encoded data removed]",
      "text/plain": [
       "<Figure size 432x288 with 1 Axes>"
      ]
     },
     "metadata": {
      "needs_background": "light"
     },
     "output_type": "display_data"
    }
   ],
   "source": [
    "#Drawing the Scatter plot based on the choosen independent and dependent column\n",
    "draw_scatterchart('Scatter Plot based on charges and bmi', 'Independent variable - charges', 'Dependent variable - bmi', col1, col2 ,'green')"
   ]
  },
  {
   "cell_type": "code",
   "execution_count": 321,
   "id": "25e729cd",
   "metadata": {},
   "outputs": [
    {
     "name": "stdout",
     "output_type": "stream",
     "text": [
      "\n",
      "Slope of the line: 9.987771906652332e-05\n",
      "y-intercept of the line: 29.337977354094633\n"
     ]
    }
   ],
   "source": [
    "#Showcasing the Slope and the intercept\n",
    "m, b = calculate_slope_intercept(col1,col2)\n",
    "print('\\nSlope of the line:', m)\n",
    "print('y-intercept of the line:', b)"
   ]
  },
  {
   "cell_type": "code",
   "execution_count": 322,
   "id": "d1aeaba3",
   "metadata": {},
   "outputs": [
    {
     "data": {
      "image/png": "[encoded data removed]",
      "text/plain": [
       "<Figure size 432x288 with 1 Axes>"
      ]
     },
     "metadata": {
      "needs_background": "light"
     },
     "output_type": "display_data"
    }
   ],
   "source": [
    "#Drawing the least squares regression line\n",
    "show_least_squares_line('Least square regression line for insurance data','charges','bmi',col1, col2,'green')"
   ]
  },
  {
   "cell_type": "code",
   "execution_count": 327,
   "id": "0a43ec40",
   "metadata": {},
   "outputs": [
    {
     "name": "stdout",
     "output_type": "stream",
     "text": [
      "Coefficient of determination -1.1959783722486663\n",
      "\n",
      "The negative value is to do with the residual values being much away from the line and also to do with the size of the dataset\n"
     ]
    }
   ],
   "source": [
    "# Coeffiecient of determination\n",
    "    R_square = r2_score(col1, col2) \n",
    "print('Coefficient of determination', R_square)\n",
    "print(\"\\nThe negative value is to do with the residual values being much away from the line and also to do with the size of the dataset\")"
   ]
  },
  {
   "cell_type": "code",
   "execution_count": 329,
   "id": "c0ec26fb",
   "metadata": {},
   "outputs": [
    {
     "name": "stdout",
     "output_type": "stream",
     "text": [
      "Correlation coeffiecient is 0.19834096883362887\n",
      "\n",
      "This shows that the columns charges and bmi do not have very high correlation\n"
     ]
    }
   ],
   "source": [
    "#Calculating the Pearson's coeffiecient\n",
    "\n",
    "pearson_correlation = pearsonr(col1, col2)[0]\n",
    "print('Correlation coeffiecient is', pearson_correlation)\n",
    "print(\"\\nThis shows that the columns charges and bmi do not have very high correlation\")"
   ]
  }
 ],
 "metadata": {
  "kernelspec": {
   "display_name": "Python 3 (ipykernel)",
   "language": "python",
   "name": "python3"
  },
  "language_info": {
   "codemirror_mode": {
    "name": "ipython",
    "version": 3
   },
   "file_extension": ".py",
   "mimetype": "text/x-python",
   "name": "python",
   "nbconvert_exporter": "python",
   "pygments_lexer": "ipython3",
   "version": "3.9.7"
  }
 },
 "nbformat": 4,
 "nbformat_minor": 5
}
